{
 "cells": [
  {
   "cell_type": "markdown",
   "metadata": {},
   "source": [
    "# Computer Science 315\n",
    "## Assignment 3\n",
    "### D.S. van der Westhuizen - 17158680"
   ]
  },
  {
   "cell_type": "code",
   "execution_count": 18,
   "metadata": {},
   "outputs": [],
   "source": [
    "import pylab as pl\n",
    "import numpy as np\n",
    "from sklearn.decomposition import PCA\n",
    "from sklearn.lda import LDA #Deprecation warning\n",
    "from sklearn.linear_model import LogisticRegression as LRM #Deprecation warning\n",
    "#import discriminant_analysis.LinearDiscriminantAnalysis as LDA\n",
    "import copy\n",
    "#rom logreg_skel import *\n",
    "from utils import *\n",
    "pl.style.use('bmh') #pretty plots"
   ]
  },
  {
   "cell_type": "markdown",
   "metadata": {},
   "source": [
    "### Getting started: Question 1"
   ]
  },
  {
   "cell_type": "code",
   "execution_count": 19,
   "metadata": {},
   "outputs": [
    {
     "name": "stdout",
     "output_type": "stream",
     "text": [
      "(107, 13)\n",
      "[ 1.  1.  1.  1.  1.  1.  1.  1.  1.  1.  1.  1.  1.  1.  1.  1.  1.  1.\n",
      "  1.  1.  1.  1.  1.  1.  1.  1.  1.  1.  1.  1.  1.  1.  1.  1.  1.  2.\n",
      "  2.  2.  2.  2.  2.  2.  2.  2.  2.  2.  2.  2.  2.  2.  2.  2.  2.  2.\n",
      "  2.  2.  2.  2.  2.  2.  2.  2.  2.  2.  2.  2.  2.  2.  2.  2.  2.  2.\n",
      "  2.  2.  2.  2.  2.  2.  3.  3.  3.  3.  3.  3.  3.  3.  3.  3.  3.  3.\n",
      "  3.  3.  3.  3.  3.  3.  3.  3.  3.  3.  3.  3.  3.  3.  3.  3.  3.]\n",
      "(107,)\n",
      "(71, 13)\n",
      "[ 1.  1.  1.  1.  1.  1.  1.  1.  1.  1.  1.  1.  1.  1.  1.  1.  1.  1.\n",
      "  1.  1.  1.  1.  1.  1.  2.  2.  2.  2.  2.  2.  2.  2.  2.  2.  2.  2.\n",
      "  2.  2.  2.  2.  2.  2.  2.  2.  2.  2.  2.  2.  2.  2.  2.  2.  3.  3.\n",
      "  3.  3.  3.  3.  3.  3.  3.  3.  3.  3.  3.  3.  3.  3.  3.  3.  3.]\n",
      "(71,)\n"
     ]
    }
   ],
   "source": [
    "wine_train_data = np.loadtxt(\"data/wine_train.txt\", delimiter=\",\" , usecols=range(0,13) )\n",
    "wine_train_classes = np.loadtxt(\"data/wine_train.txt\", delimiter=\",\" , usecols=(13,) )\n",
    "#print(wine_train_data)\n",
    "print(wine_train_data.shape)\n",
    "print(wine_train_classes)\n",
    "print(wine_train_classes.shape)\n",
    "wine_test_data = np.loadtxt(\"data/wine_test.txt\", delimiter=\",\" , usecols=range(0,13) )\n",
    "wine_test_classes = np.loadtxt(\"data/wine_test.txt\", delimiter=\",\" , usecols=(13,) )\n",
    "#print(wine_test_data)\n",
    "print(wine_test_data.shape)\n",
    "print(wine_test_classes)\n",
    "print(wine_test_classes.shape)"
   ]
  },
  {
   "cell_type": "code",
   "execution_count": 20,
   "metadata": {},
   "outputs": [
    {
     "name": "stdout",
     "output_type": "stream",
     "text": [
      "(107, 2)\n",
      "(71, 2)\n"
     ]
    }
   ],
   "source": [
    "wine_train_lda = LDA(n_components=2)\n",
    "wine_train_lda_proj = wine_train_lda.fit(wine_train_data,wine_train_classes).transform(wine_train_data)\n",
    "wine_test_lda = LDA(n_components=2)\n",
    "wine_test_lda_proj = wine_test_lda.fit(wine_train_data,wine_train_classes).transform(wine_test_data)\n",
    "#print(wine_train_lda_proj)\n",
    "print(wine_train_lda_proj.shape)\n",
    "#print(wine_train_pca_proj)\n",
    "print(wine_test_lda_proj.shape)"
   ]
  },
  {
   "cell_type": "code",
   "execution_count": 21,
   "metadata": {},
   "outputs": [
    {
     "data": {
      "text/plain": [
       "<matplotlib.legend.Legend at 0x9456748>"
      ]
     },
     "execution_count": 21,
     "metadata": {},
     "output_type": "execute_result"
    },
    {
     "data": {
      "image/png": "[encoded data removed]",
      "text/plain": [
       "<matplotlib.figure.Figure at 0x9233f60>"
      ]
     },
     "metadata": {},
     "output_type": "display_data"
    }
   ],
   "source": [
    "%matplotlib inline\n",
    "classes = [1, 2, 3]\n",
    "\n",
    "\n",
    "\n",
    "foograph2 = pl.figure(figsize=(14,7) )\n",
    "\n",
    "foograph2_1 = foograph2.add_subplot(2, 2, 1)\n",
    "foograph2_2 = foograph2.add_subplot(2, 2, 2)\n",
    "\n",
    "for c, i, t in zip(\"rgb\", range(1,4), classes):\n",
    "    fooplot2_1 = foograph2_1.scatter(wine_train_lda_proj[wine_train_classes == i, 0],\n",
    "                                     wine_train_lda_proj[wine_train_classes == i, 1], c=c, label=t)\n",
    "foograph2_1.legend()\n",
    "\n",
    "for c, i, t in zip(\"rgb\", range(1,4), classes):\n",
    "    fooplot2_2 = foograph2_2.scatter(wine_test_lda_proj[wine_test_classes == i, 0],\n",
    "                                     wine_test_lda_proj[wine_test_classes == i, 1], c=c, label=t)\n",
    "foograph2_2.legend()"
   ]
  },
  {
   "cell_type": "code",
   "execution_count": 22,
   "metadata": {},
   "outputs": [
    {
     "name": "stdout",
     "output_type": "stream",
     "text": [
      "[[-4.14615574  1.2107625 ]\n",
      " [ 0.70115843 -2.44943162]\n",
      " [ 3.96433236  2.17065076]]\n"
     ]
    }
   ],
   "source": [
    "wine_train_lda_proj_means = np.ndarray(shape=(3,2))\n",
    "wine_train_lda_proj_means[0,0] = np.mean(wine_train_lda_proj[range(0,35),0], axis=0)\n",
    "wine_train_lda_proj_means[1,0] = np.mean(wine_train_lda_proj[range(35,78),0], axis=0)\n",
    "wine_train_lda_proj_means[2,0] = np.mean(wine_train_lda_proj[range(78,107),0], axis=0)\n",
    "wine_train_lda_proj_means[0,1] = np.mean(wine_train_lda_proj[range(0,35),1], axis=0)\n",
    "wine_train_lda_proj_means[1,1] = np.mean(wine_train_lda_proj[range(35,78),1], axis=0)\n",
    "wine_train_lda_proj_means[2,1] = np.mean(wine_train_lda_proj[range(78,107),1], axis=0)\n",
    "print(wine_train_lda_proj_means)"
   ]
  },
  {
   "cell_type": "markdown",
   "metadata": {},
   "source": [
    "### Getting started: Question 2"
   ]
  },
  {
   "cell_type": "code",
   "execution_count": 23,
   "metadata": {},
   "outputs": [
    {
     "name": "stdout",
     "output_type": "stream",
     "text": [
      "[1 1 1 1 1 1 1 1 1 1 1 1 1 1 1 1 1 1 1 1 1 1 1 1 2 2 2 2 2 2 2 2 2 2 2 2 2\n",
      " 2 2 2 3 2 2 1 2 2 2 2 2 2 2 2 3 3 3 3 3 3 3 3 3 3 3 3 3 3 3 3 3 3 3]\n"
     ]
    }
   ],
   "source": [
    "foo = np.ndarray(shape=(3,2))\n",
    "foo[0,0]=-5\n",
    "foo[0,1]=2\n",
    "foo[1,0]=0\n",
    "foo[1,1]=-2\n",
    "foo[2,0]=4\n",
    "foo[2,1]=3\n",
    "def nearest_centroid_classifier (sample, trained_data_class_means):\n",
    "    return_value = np.arange(0,sample.shape[0],1)\n",
    "    for j in range(0,sample.shape[0]):\n",
    "        l = 0\n",
    "        nearest = 1000000\n",
    "        for i in range(0,3):\n",
    "            x_diff = sample[j,0] - trained_data_class_means[i,0]\n",
    "            y_diff = sample[j,1] - trained_data_class_means[i,1]\n",
    "            diff = (x_diff ** 2) + (y_diff ** 2)\n",
    "            if (diff < nearest):\n",
    "                nearest = copy.copy(diff)\n",
    "                return_value[j] = i+1\n",
    "    return (return_value)\n",
    "\n",
    "NCC = nearest_centroid_classifier(wine_test_lda_proj,wine_train_lda_proj_means)\n",
    "print(NCC)"
   ]
  },
  {
   "cell_type": "code",
   "execution_count": 24,
   "metadata": {},
   "outputs": [
    {
     "name": "stdout",
     "output_type": "stream",
     "text": [
      "Confusion Matrix:\n",
      "      1.0 2.0 3.0 \n",
      "1.0    24   0   0 \n",
      "2.0     1  26   1 \n",
      "3.0     0   0  19 \n",
      "{(3.0, 3): 19, (2.0, 3): 1, (1.0, 1): 24, (2.0, 1): 1, (2.0, 2): 26}\n"
     ]
    }
   ],
   "source": [
    "print(\"Confusion Matrix:\")\n",
    "ConfMatrix1_2 = confusion(wine_test_classes, NCC)\n",
    "print(ConfMatrix1_2)"
   ]
  },
  {
   "cell_type": "markdown",
   "metadata": {},
   "source": [
    "### Getting started: Question 3"
   ]
  },
  {
   "cell_type": "code",
   "execution_count": 25,
   "metadata": {},
   "outputs": [
    {
     "name": "stdout",
     "output_type": "stream",
     "text": [
      "(71,)\n",
      "[ 1.  1.  1.  1.  1.  1.  1.  1.  1.  1.  1.  1.  1.  1.  1.  1.  1.  1.\n",
      "  1.  1.  1.  1.  1.  1.  2.  2.  2.  2.  2.  2.  2.  2.  2.  2.  2.  2.\n",
      "  2.  2.  2.  2.  3.  2.  2.  2.  2.  2.  2.  2.  2.  2.  2.  2.  3.  3.\n",
      "  3.  3.  3.  3.  3.  3.  3.  3.  3.  3.  3.  3.  3.  3.  3.  3.  3.]\n"
     ]
    }
   ],
   "source": [
    "wine_LRM = LRM()\n",
    "wine_LRM_prediction = wine_LRM.fit(wine_train_lda_proj,wine_train_classes).predict(wine_test_lda_proj)\n",
    "print(wine_LRM_prediction.shape)\n",
    "print(wine_LRM_prediction)"
   ]
  },
  {
   "cell_type": "code",
   "execution_count": 26,
   "metadata": {},
   "outputs": [
    {
     "name": "stdout",
     "output_type": "stream",
     "text": [
      "Confusion Matrix:\n",
      "      1.0 2.0 3.0 \n",
      "1.0    24   0   0 \n",
      "2.0     0  27   1 \n",
      "3.0     0   0  19 \n",
      "{(3.0, 3.0): 19, (2.0, 3.0): 1, (1.0, 1.0): 24, (2.0, 2.0): 27}\n"
     ]
    }
   ],
   "source": [
    "print(\"Confusion Matrix:\")\n",
    "ConfMatrix1_3 = confusion(wine_test_classes, wine_LRM_prediction)\n",
    "print(ConfMatrix1_3)"
   ]
  },
  {
   "cell_type": "markdown",
   "metadata": {},
   "source": [
    "### Getting started: Question 4"
   ]
  },
  {
   "cell_type": "code",
   "execution_count": 27,
   "metadata": {},
   "outputs": [
    {
     "name": "stdout",
     "output_type": "stream",
     "text": [
      "(71,)\n",
      "[ 1.  1.  1.  1.  1.  1.  1.  1.  1.  1.  1.  1.  1.  1.  1.  1.  1.  1.\n",
      "  1.  1.  1.  1.  1.  1.  2.  2.  2.  2.  2.  2.  2.  2.  2.  2.  2.  2.\n",
      "  2.  2.  2.  2.  2.  2.  2.  2.  2.  2.  2.  2.  2.  2.  2.  2.  3.  3.\n",
      "  3.  3.  3.  3.  3.  3.  3.  3.  3.  3.  3.  3.  3.  3.  3.  3.  3.]\n"
     ]
    }
   ],
   "source": [
    "wine_LRM2 = LRM()\n",
    "wine_LRM_prediction_full = wine_LRM2.fit(wine_train_data,wine_train_classes).predict(wine_test_data)\n",
    "print(wine_LRM_prediction_full.shape)\n",
    "print(wine_LRM_prediction_full)"
   ]
  },
  {
   "cell_type": "code",
   "execution_count": 28,
   "metadata": {},
   "outputs": [
    {
     "name": "stdout",
     "output_type": "stream",
     "text": [
      "Confusion Matrix:\n",
      "      1.0 2.0 3.0 \n",
      "1.0    24   0   0 \n",
      "2.0     0  28   0 \n",
      "3.0     0   0  19 \n",
      "{(3.0, 3.0): 19, (1.0, 1.0): 24, (2.0, 2.0): 28}\n"
     ]
    }
   ],
   "source": [
    "print(\"Confusion Matrix:\")\n",
    "ConfMatrix1_3 = confusion(wine_test_classes, wine_LRM_prediction_full)\n",
    "print(ConfMatrix1_3)"
   ]
  },
  {
   "cell_type": "markdown",
   "metadata": {},
   "source": [
    "### Decision Boundaries - Part I - Question 1"
   ]
  },
  {
   "cell_type": "markdown",
   "metadata": {},
   "source": [
    "As seen at the top, class 2 and class 3 will be difficult to give a decision boundary."
   ]
  },
  {
   "cell_type": "markdown",
   "metadata": {},
   "source": [
    "### Decision Boundaries - Part I - Question 2 and 3"
   ]
  },
  {
   "cell_type": "code",
   "execution_count": 29,
   "metadata": {},
   "outputs": [
    {
     "name": "stdout",
     "output_type": "stream",
     "text": [
      "[ 2.  2.  2.  2.  2.  2.  2.  2.  2.  2.  2.  2.  2.  2.  2.  2.  2.  2.\n",
      "  2.  2.  2.  2.  2.  2.  2.  2.  2.  2.  2.  2.  2.  2.  2.  2.  2.  2.\n",
      "  2.  2.  2.  2.  2.  2.  2.  3.  3.  3.  3.  3.  3.  3.  3.  3.  3.  3.\n",
      "  3.  3.  3.  3.  3.  3.  3.  3.  3.  3.  3.  3.  3.  3.  3.  3.  3.  3.]\n",
      "[ 2.  2.  2.  2.  2.  2.  2.  2.  2.  2.  2.  2.  2.  2.  2.  2.  2.  2.\n",
      "  2.  2.  2.  2.  2.  2.  2.  2.  2.  2.  3.  3.  3.  3.  3.  3.  3.  3.\n",
      "  3.  3.  3.  3.  3.  3.  3.  3.  3.  3.  3.]\n"
     ]
    }
   ],
   "source": [
    "wine_train_lda_proj_class2and3 = wine_train_lda_proj[35:,:]\n",
    "wine_train_lda_proj_class2and3_classes = wine_train_classes[35:]\n",
    "wine_test_lda_proj_class2and3 = wine_test_lda_proj[24:,:]\n",
    "wine_test_lda_proj_class2and3_classes = wine_test_classes[24:]\n",
    "print(wine_train_lda_proj_class2and3_classes)\n",
    "print(wine_test_lda_proj_class2and3_classes)"
   ]
  },
  {
   "cell_type": "markdown",
   "metadata": {},
   "source": [
    "#### Training Set"
   ]
  },
  {
   "cell_type": "code",
   "execution_count": 30,
   "metadata": {},
   "outputs": [
    {
     "name": "stdout",
     "output_type": "stream",
     "text": [
      "(72,)\n",
      "[ 2.  2.  2.  2.  2.  2.  2.  2.  2.  2.  2.  2.  2.  2.  2.  2.  2.  2.\n",
      "  2.  2.  2.  2.  2.  2.  3.  2.  2.  2.  2.  2.  2.  2.  2.  2.  2.  2.\n",
      "  2.  2.  2.  2.  2.  2.  2.  3.  3.  3.  3.  3.  3.  3.  3.  3.  3.  3.\n",
      "  3.  3.  3.  3.  3.  3.  3.  3.  3.  3.  3.  3.  3.  3.  3.  3.  3.  3.]\n"
     ]
    }
   ],
   "source": [
    "wine_LRM23 = LRM()\n",
    "wine_LRM_train_prediction23 = wine_LRM23.fit(wine_train_lda_proj_class2and3,\n",
    "                                wine_train_lda_proj_class2and3_classes).predict(wine_train_lda_proj_class2and3)\n",
    "print(wine_LRM_train_prediction23.shape)\n",
    "print(wine_LRM_train_prediction23)"
   ]
  },
  {
   "cell_type": "code",
   "execution_count": 31,
   "metadata": {},
   "outputs": [
    {
     "data": {
      "text/plain": [
       "<matplotlib.legend.Legend at 0x95b3240>"
      ]
     },
     "execution_count": 31,
     "metadata": {},
     "output_type": "execute_result"
    },
    {
     "data": {
      "image/png": "[encoded data removed]",
      "text/plain": [
       "<matplotlib.figure.Figure at 0x9510cc0>"
      ]
     },
     "metadata": {},
     "output_type": "display_data"
    }
   ],
   "source": [
    "%matplotlib inline\n",
    "classes34534 = [2, 3]\n",
    "x = np.linspace(-1,6,8,False)\n",
    "y = wine_LRM23.coef_[0,0]-x*(wine_LRM23.coef_[0,0]/wine_LRM23.coef_[0,1])\n",
    "foograph34534 = pl.figure(figsize=(14,7) )\n",
    "\n",
    "foograph34534_1 = foograph34534.add_subplot(2, 2, 1)\n",
    "foograph34534_2 = foograph34534.add_subplot(2, 2, 2)\n",
    "\n",
    "for c, i, t in zip(\"gb\", range(2,4), classes34534):\n",
    "    fooplot34534_1 = foograph34534_1.scatter(wine_train_lda_proj_class2and3[wine_train_lda_proj_class2and3_classes == i, 0],\n",
    "                                     wine_train_lda_proj_class2and3[wine_train_lda_proj_class2and3_classes == i, 1], c=c, label=t)\n",
    "foograph34534_1.plot(x,y);\n",
    "foograph34534_1.legend()\n",
    "\n",
    "for c, i, t in zip(\"gb\", range(2,4), classes34534):\n",
    "    fooplot34534_2 = foograph34534_2.scatter(wine_train_lda_proj_class2and3[wine_LRM_train_prediction23 == i, 0],\n",
    "                                     wine_train_lda_proj_class2and3[wine_LRM_train_prediction23 == i, 1], c=c, label=t)\n",
    "foograph34534_2.plot(x,y);\n",
    "foograph34534_2.legend()"
   ]
  },
  {
   "cell_type": "markdown",
   "metadata": {},
   "source": [
    "The predicted data is on the right. One green dot was misclassified as blue."
   ]
  },
  {
   "cell_type": "markdown",
   "metadata": {},
   "source": [
    "#### Test Set"
   ]
  },
  {
   "cell_type": "code",
   "execution_count": 32,
   "metadata": {},
   "outputs": [
    {
     "name": "stdout",
     "output_type": "stream",
     "text": [
      "(47,)\n",
      "[ 2.  2.  2.  2.  2.  2.  2.  2.  2.  2.  2.  2.  2.  2.  2.  2.  3.  2.\n",
      "  2.  2.  2.  2.  2.  2.  2.  2.  2.  2.  3.  3.  3.  3.  3.  3.  3.  3.\n",
      "  3.  3.  3.  3.  3.  3.  3.  3.  3.  3.  3.]\n"
     ]
    }
   ],
   "source": [
    "wine_LRM23_2 = LRM()\n",
    "wine_LRM_test_prediction23 = wine_LRM23_2.fit(wine_train_lda_proj_class2and3,\n",
    "                                    wine_train_lda_proj_class2and3_classes).predict(wine_test_lda_proj_class2and3)\n",
    "print(wine_LRM_test_prediction23.shape)\n",
    "print(wine_LRM_test_prediction23)"
   ]
  },
  {
   "cell_type": "code",
   "execution_count": 33,
   "metadata": {},
   "outputs": [
    {
     "data": {
      "text/plain": [
       "<matplotlib.legend.Legend at 0x9690cc0>"
      ]
     },
     "execution_count": 33,
     "metadata": {},
     "output_type": "execute_result"
    },
    {
     "data": {
      "image/png": "[encoded data removed]",
      "text/plain": [
       "<matplotlib.figure.Figure at 0x8dc1c88>"
      ]
     },
     "metadata": {},
     "output_type": "display_data"
    }
   ],
   "source": [
    "%matplotlib inline\n",
    "classes69675 = [2, 3]\n",
    "x = np.linspace(-1,6,8,False)\n",
    "y = wine_LRM23_2.coef_[0,0]-x*(wine_LRM23_2.coef_[0,0]/wine_LRM23_2.coef_[0,1])\n",
    "foograph69675 = pl.figure(figsize=(14,7) )\n",
    "\n",
    "foograph69675_1 = foograph69675.add_subplot(2, 2, 1)\n",
    "foograph69675_2 = foograph69675.add_subplot(2, 2, 2)\n",
    "\n",
    "for c, i, t in zip(\"gb\", range(2,4), classes69675):\n",
    "    fooplot69675_1 = foograph69675_1.scatter(wine_test_lda_proj_class2and3[wine_test_lda_proj_class2and3_classes == i, 0],\n",
    "                                     wine_test_lda_proj_class2and3[wine_test_lda_proj_class2and3_classes == i, 1], c=c, label=t)\n",
    "foograph69675_1.plot(x,y);\n",
    "foograph69675_1.legend()\n",
    "\n",
    "for c, i, t in zip(\"gb\", range(2,4), classes69675):\n",
    "    fooplot34534_2 = foograph69675_2.scatter(wine_test_lda_proj_class2and3[wine_LRM_test_prediction23 == i, 0],\n",
    "                                     wine_test_lda_proj_class2and3[wine_LRM_test_prediction23 == i, 1], c=c, label=t)\n",
    "foograph69675_2.plot(x,y);\n",
    "foograph69675_2.legend()"
   ]
  },
  {
   "cell_type": "markdown",
   "metadata": {},
   "source": [
    "A single green dot was misclassified as blue"
   ]
  },
  {
   "cell_type": "markdown",
   "metadata": {},
   "source": [
    "### Decision Boundaries - Part I - Question 4"
   ]
  },
  {
   "cell_type": "code",
   "execution_count": 34,
   "metadata": {},
   "outputs": [],
   "source": [
    "#foo = logis_reg(wine_train_lda_proj_class2and3,wine_train_lda_proj_class2and3_classes)"
   ]
  },
  {
   "cell_type": "markdown",
   "metadata": {},
   "source": [
    "### Decision Boundaries - Part 2 - Question 1"
   ]
  },
  {
   "cell_type": "code",
   "execution_count": 35,
   "metadata": {},
   "outputs": [
    {
     "name": "stdout",
     "output_type": "stream",
     "text": [
      "(71,)\n",
      "(250, 239)\n"
     ]
    },
    {
     "data": {
      "image/png": "[encoded data removed]",
      "text/plain": [
       "<matplotlib.figure.Figure at 0x96d9ef0>"
      ]
     },
     "metadata": {},
     "output_type": "display_data"
    }
   ],
   "source": [
    "#http://scikit-learn.org/stable/auto_examples/linear_model/plot_iris_logistic.html\n",
    "X = wine_test_lda_proj\n",
    "Y = wine_test_classes\n",
    "h = 0.05\n",
    "# Plot the decision boundary. For that, we will assign a color to each\n",
    "# point in the mesh [x_min, m_max]x[y_min, y_max].\n",
    "x_min, x_max = X[:, 0].min() - .5, X[:, 0].max() + .5\n",
    "y_min, y_max = X[:, 1].min() - .5, X[:, 1].max() + .5\n",
    "xx, yy = np.meshgrid(np.arange(x_min, x_max, h), np.arange(y_min, y_max, h))\n",
    "Z  = nearest_centroid_classifier(np.c_[xx.ravel(), yy.ravel()],wine_train_lda_proj_means)\n",
    "\n",
    "print(NCC.shape)\n",
    "print(xx.shape)\n",
    "\n",
    "# Put the result into a color plot\n",
    "Z = Z.reshape(xx.shape)\n",
    "plt.figure(1, figsize=(4, 3))\n",
    "plt.pcolormesh(xx, yy, Z, cmap=plt.cm.Paired)\n",
    "\n",
    "# Plot also the training points\n",
    "plt.scatter(X[:, 0], X[:, 1], c=Y, edgecolors='k', cmap=plt.cm.Paired)\n",
    "plt.xlabel('Sepal length')\n",
    "plt.ylabel('Sepal width')\n",
    "\n",
    "plt.xlim(xx.min(), xx.max())\n",
    "plt.ylim(yy.min(), yy.max())\n",
    "plt.xticks(())\n",
    "plt.yticks(())\n",
    "\n",
    "plt.show()"
   ]
  },
  {
   "cell_type": "markdown",
   "metadata": {},
   "source": [
    "### Decision Boundaries - Part 2 - Question 2"
   ]
  },
  {
   "cell_type": "code",
   "execution_count": 36,
   "metadata": {},
   "outputs": [
    {
     "data": {
      "image/png": "[encoded data removed]",
      "text/plain": [
       "<matplotlib.figure.Figure at 0xa96f048>"
      ]
     },
     "metadata": {},
     "output_type": "display_data"
    }
   ],
   "source": [
    "#http://scikit-learn.org/stable/auto_examples/linear_model/plot_iris_logistic.html\n",
    "wine_LRM = LRM()\n",
    "wine_LRM_prediction = wine_LRM.fit(wine_test_lda_proj,wine_test_classes)\n",
    "X = wine_test_lda_proj\n",
    "Y = wine_test_classes\n",
    "h = 0.05\n",
    "# Plot the decision boundary. For that, we will assign a color to each\n",
    "# point in the mesh [x_min, m_max]x[y_min, y_max].\n",
    "x_min, x_max = X[:, 0].min() - .5, X[:, 0].max() + .5\n",
    "y_min, y_max = X[:, 1].min() - .5, X[:, 1].max() + .5\n",
    "xx, yy = np.meshgrid(np.arange(x_min, x_max, h), np.arange(y_min, y_max, h))\n",
    "Z  = wine_LRM.predict(np.c_[xx.ravel(), yy.ravel()])\n",
    "\n",
    "# Put the result into a color plot\n",
    "Z = Z.reshape(xx.shape)\n",
    "plt.figure(1, figsize=(4, 3))\n",
    "plt.pcolormesh(xx, yy, Z, cmap=plt.cm.Paired)\n",
    "\n",
    "# Plot also the training points\n",
    "plt.scatter(X[:, 0], X[:, 1], c=Y, edgecolors='k', cmap=plt.cm.Paired)\n",
    "plt.xlabel('Sepal length')\n",
    "plt.ylabel('Sepal width')\n",
    "\n",
    "plt.xlim(xx.min(), xx.max())\n",
    "plt.ylim(yy.min(), yy.max())\n",
    "plt.xticks(())\n",
    "plt.yticks(())\n",
    "\n",
    "plt.show()"
   ]
  },
  {
   "cell_type": "code",
   "execution_count": null,
   "metadata": {
    "collapsed": true
   },
   "outputs": [],
   "source": []
  },
  {
   "cell_type": "code",
   "execution_count": null,
   "metadata": {
    "collapsed": true
   },
   "outputs": [],
   "source": []
  },
  {
   "cell_type": "code",
   "execution_count": null,
   "metadata": {
    "collapsed": true
   },
   "outputs": [],
   "source": []
  },
  {
   "cell_type": "markdown",
   "metadata": {
    "collapsed": true
   },
   "source": [
    "### Test code, ignore:"
   ]
  },
  {
   "cell_type": "code",
   "execution_count": null,
   "metadata": {},
   "outputs": [],
   "source": []
  },
  {
   "cell_type": "code",
   "execution_count": 37,
   "metadata": {},
   "outputs": [
    {
     "name": "stdout",
     "output_type": "stream",
     "text": [
      "[ 1.   1.5  1.5  1. ]\n",
      "(4,)\n"
     ]
    }
   ],
   "source": [
    "foo = np.array([1,2,4,5])\n",
    "print(np.gradient(foo))\n",
    "print(foo.shape)"
   ]
  },
  {
   "cell_type": "code",
   "execution_count": null,
   "metadata": {},
   "outputs": [],
   "source": []
  },
  {
   "cell_type": "code",
   "execution_count": 38,
   "metadata": {},
   "outputs": [
    {
     "data": {
      "text/plain": [
       "(72, 2)"
      ]
     },
     "execution_count": 38,
     "metadata": {},
     "output_type": "execute_result"
    }
   ],
   "source": [
    "wine_train_lda_proj_class2and3.shape"
   ]
  },
  {
   "cell_type": "code",
   "execution_count": 39,
   "metadata": {},
   "outputs": [
    {
     "ename": "TypeError",
     "evalue": "solve() missing 1 required positional argument: 'b'",
     "output_type": "error",
     "traceback": [
      "\u001b[1;31m---------------------------------------------------------------------------\u001b[0m",
      "\u001b[1;31mTypeError\u001b[0m                                 Traceback (most recent call last)",
      "\u001b[1;32m<ipython-input-39-5b2bb78f7cd9>\u001b[0m in \u001b[0;36m<module>\u001b[1;34m()\u001b[0m\n\u001b[0;32m      2\u001b[0m \u001b[0mdata\u001b[0m \u001b[1;33m=\u001b[0m \u001b[0mnp\u001b[0m\u001b[1;33m.\u001b[0m\u001b[0mhstack\u001b[0m\u001b[1;33m(\u001b[0m\u001b[1;33m(\u001b[0m\u001b[0mbias\u001b[0m\u001b[1;33m,\u001b[0m \u001b[0mwine_train_lda_proj_class2and3\u001b[0m\u001b[1;33m)\u001b[0m\u001b[1;33m)\u001b[0m\u001b[1;33m\u001b[0m\u001b[0m\n\u001b[0;32m      3\u001b[0m \u001b[0mnp\u001b[0m\u001b[1;33m.\u001b[0m\u001b[0mzeros\u001b[0m\u001b[1;33m(\u001b[0m\u001b[1;36m2\u001b[0m\u001b[1;33m)\u001b[0m\u001b[1;33m\u001b[0m\u001b[0m\n\u001b[1;32m----> 4\u001b[1;33m \u001b[0mnp\u001b[0m\u001b[1;33m.\u001b[0m\u001b[0mlinalg\u001b[0m\u001b[1;33m.\u001b[0m\u001b[0msolve\u001b[0m\u001b[1;33m(\u001b[0m\u001b[0mnp\u001b[0m\u001b[1;33m.\u001b[0m\u001b[0mgradient\u001b[0m\u001b[1;33m(\u001b[0m\u001b[0mnp\u001b[0m\u001b[1;33m.\u001b[0m\u001b[0mzeros\u001b[0m\u001b[1;33m(\u001b[0m\u001b[1;36m2\u001b[0m\u001b[1;33m)\u001b[0m\u001b[1;33m)\u001b[0m\u001b[1;33m)\u001b[0m\u001b[1;33m\u001b[0m\u001b[0m\n\u001b[0m",
      "\u001b[1;31mTypeError\u001b[0m: solve() missing 1 required positional argument: 'b'"
     ]
    }
   ],
   "source": [
    "bias = np.ones((72,1))\n",
    "data = np.hstack((bias, wine_train_lda_proj_class2and3))   \n",
    "np.zeros(2)\n",
    "np.linalg.solve(np.gradient(np.zeros(2)))"
   ]
  },
  {
   "cell_type": "code",
   "execution_count": null,
   "metadata": {},
   "outputs": [],
   "source": [
    "d=2\n",
    "H = np.ndarray(shape=(d+1,d+1))\n",
    "for q1 in range (0,d+1):\n",
    "    for q2 in range(0,d+1):\n",
    "        H[q1,q2] = 2\n",
    "H"
   ]
  },
  {
   "cell_type": "code",
   "execution_count": null,
   "metadata": {
    "collapsed": true
   },
   "outputs": [],
   "source": []
  }
 ],
 "metadata": {
  "kernelspec": {
   "display_name": "Python 3",
   "language": "python",
   "name": "python3"
  },
  "language_info": {
   "codemirror_mode": {
    "name": "ipython",
    "version": 3
   },
   "file_extension": ".py",
   "mimetype": "text/x-python",
   "name": "python",
   "nbconvert_exporter": "python",
   "pygments_lexer": "ipython3",
   "version": "3.7.1"
  }
 },
 "nbformat": 4,
 "nbformat_minor": 1
}
